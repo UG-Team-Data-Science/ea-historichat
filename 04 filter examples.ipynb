{
 "cells": [
  {
   "cell_type": "code",
   "execution_count": 7,
   "id": "6838b068-2cdf-40a0-8eb9-54eab9b294f9",
   "metadata": {},
   "outputs": [],
   "source": [
    "import pandas as pd\n",
    "\n",
    "with open(\"data/interim/chatbot_train_data.jsonl\", \"r\", encoding=\"utf-8\") as f:\n",
    "    lines = [json.loads(line) for line in f]\n",
    "\n",
    "df = pd.DataFrame(lines)"
   ]
  },
  {
   "cell_type": "code",
   "execution_count": 19,
   "id": "e331fbe4-d1b0-4bbd-bd7a-be9f6bb661cd",
   "metadata": {},
   "outputs": [],
   "source": [
    "human_texts = [l[\"conversations\"][1][\"value\"] for l in lines]"
   ]
  },
  {
   "cell_type": "code",
   "execution_count": 31,
   "id": "ca509af3-09a7-4d7b-99ce-6143e6ac08bb",
   "metadata": {},
   "outputs": [],
   "source": [
    "with open(\"data/interim/chatbot_train_data_filtered.jsonl\", \"w\", encoding=\"utf-8\") as f:\n",
    "    for line in lines:\n",
    "        if len(line[\"conversations\"][1][\"value\"]):\n",
    "            f.write(json.dumps(line) + \"\\n\")\n"
   ]
  },
  {
   "cell_type": "code",
   "execution_count": 30,
   "id": "7fe88b69-72b3-4904-8492-e955db5bcf5c",
   "metadata": {},
   "outputs": [
    {
     "data": {
      "text/plain": [
       "4823     0\n",
       "5713     0\n",
       "4974     0\n",
       "3538     0\n",
       "3519     0\n",
       "5940     0\n",
       "1144    13\n",
       "3482    21\n",
       "4838    24\n",
       "1128    24\n",
       "2262    27\n",
       "4966    27\n",
       "7086    27\n",
       "7839    27\n",
       "2095    28\n",
       "3485    28\n",
       "3050    28\n",
       "2040    28\n",
       "5542    29\n",
       "4500    29\n",
       "dtype: int64"
      ]
     },
     "execution_count": 30,
     "metadata": {},
     "output_type": "execute_result"
    }
   ],
   "source": [
    "pd.Series(human_texts).str.len().sort_values().iloc[:20]"
   ]
  },
  {
   "cell_type": "code",
   "execution_count": 18,
   "id": "341d262a-44d7-450a-a8f3-5747fbc1774b",
   "metadata": {},
   "outputs": [
    {
     "name": "stderr",
     "output_type": "stream",
     "text": [
      "/tmp/ipykernel_518300/2843210570.py:1: FutureWarning: Series.__getitem__ treating keys as positions is deprecated. In a future version, integer keys will always be treated as labels (consistent with DataFrame behavior). To access a value by position, use `ser.iloc[pos]`\n",
      "  df.apply(lambda x: x[1], axis=1)\n"
     ]
    },
    {
     "ename": "IndexError",
     "evalue": "index 1 is out of bounds for axis 0 with size 1",
     "output_type": "error",
     "traceback": [
      "\u001b[0;31m---------------------------------------------------------------------------\u001b[0m",
      "\u001b[0;31mIndexError\u001b[0m                                Traceback (most recent call last)",
      "Cell \u001b[0;32mIn[18], line 1\u001b[0m\n\u001b[0;32m----> 1\u001b[0m \u001b[43mdf\u001b[49m\u001b[38;5;241;43m.\u001b[39;49m\u001b[43mapply\u001b[49m\u001b[43m(\u001b[49m\u001b[38;5;28;43;01mlambda\u001b[39;49;00m\u001b[43m \u001b[49m\u001b[43mx\u001b[49m\u001b[43m:\u001b[49m\u001b[43m \u001b[49m\u001b[43mx\u001b[49m\u001b[43m[\u001b[49m\u001b[38;5;241;43m1\u001b[39;49m\u001b[43m]\u001b[49m\u001b[43m,\u001b[49m\u001b[43m \u001b[49m\u001b[43maxis\u001b[49m\u001b[38;5;241;43m=\u001b[39;49m\u001b[38;5;241;43m1\u001b[39;49m\u001b[43m)\u001b[49m\n",
      "File \u001b[0;32m~/.virtualenvs/eambot/lib/python3.10/site-packages/pandas/core/frame.py:10374\u001b[0m, in \u001b[0;36mDataFrame.apply\u001b[0;34m(self, func, axis, raw, result_type, args, by_row, engine, engine_kwargs, **kwargs)\u001b[0m\n\u001b[1;32m  10360\u001b[0m \u001b[38;5;28;01mfrom\u001b[39;00m \u001b[38;5;21;01mpandas\u001b[39;00m\u001b[38;5;21;01m.\u001b[39;00m\u001b[38;5;21;01mcore\u001b[39;00m\u001b[38;5;21;01m.\u001b[39;00m\u001b[38;5;21;01mapply\u001b[39;00m \u001b[38;5;28;01mimport\u001b[39;00m frame_apply\n\u001b[1;32m  10362\u001b[0m op \u001b[38;5;241m=\u001b[39m frame_apply(\n\u001b[1;32m  10363\u001b[0m     \u001b[38;5;28mself\u001b[39m,\n\u001b[1;32m  10364\u001b[0m     func\u001b[38;5;241m=\u001b[39mfunc,\n\u001b[0;32m   (...)\u001b[0m\n\u001b[1;32m  10372\u001b[0m     kwargs\u001b[38;5;241m=\u001b[39mkwargs,\n\u001b[1;32m  10373\u001b[0m )\n\u001b[0;32m> 10374\u001b[0m \u001b[38;5;28;01mreturn\u001b[39;00m \u001b[43mop\u001b[49m\u001b[38;5;241;43m.\u001b[39;49m\u001b[43mapply\u001b[49m\u001b[43m(\u001b[49m\u001b[43m)\u001b[49m\u001b[38;5;241m.\u001b[39m__finalize__(\u001b[38;5;28mself\u001b[39m, method\u001b[38;5;241m=\u001b[39m\u001b[38;5;124m\"\u001b[39m\u001b[38;5;124mapply\u001b[39m\u001b[38;5;124m\"\u001b[39m)\n",
      "File \u001b[0;32m~/.virtualenvs/eambot/lib/python3.10/site-packages/pandas/core/apply.py:916\u001b[0m, in \u001b[0;36mFrameApply.apply\u001b[0;34m(self)\u001b[0m\n\u001b[1;32m    913\u001b[0m \u001b[38;5;28;01melif\u001b[39;00m \u001b[38;5;28mself\u001b[39m\u001b[38;5;241m.\u001b[39mraw:\n\u001b[1;32m    914\u001b[0m     \u001b[38;5;28;01mreturn\u001b[39;00m \u001b[38;5;28mself\u001b[39m\u001b[38;5;241m.\u001b[39mapply_raw(engine\u001b[38;5;241m=\u001b[39m\u001b[38;5;28mself\u001b[39m\u001b[38;5;241m.\u001b[39mengine, engine_kwargs\u001b[38;5;241m=\u001b[39m\u001b[38;5;28mself\u001b[39m\u001b[38;5;241m.\u001b[39mengine_kwargs)\n\u001b[0;32m--> 916\u001b[0m \u001b[38;5;28;01mreturn\u001b[39;00m \u001b[38;5;28;43mself\u001b[39;49m\u001b[38;5;241;43m.\u001b[39;49m\u001b[43mapply_standard\u001b[49m\u001b[43m(\u001b[49m\u001b[43m)\u001b[49m\n",
      "File \u001b[0;32m~/.virtualenvs/eambot/lib/python3.10/site-packages/pandas/core/apply.py:1063\u001b[0m, in \u001b[0;36mFrameApply.apply_standard\u001b[0;34m(self)\u001b[0m\n\u001b[1;32m   1061\u001b[0m \u001b[38;5;28;01mdef\u001b[39;00m \u001b[38;5;21mapply_standard\u001b[39m(\u001b[38;5;28mself\u001b[39m):\n\u001b[1;32m   1062\u001b[0m     \u001b[38;5;28;01mif\u001b[39;00m \u001b[38;5;28mself\u001b[39m\u001b[38;5;241m.\u001b[39mengine \u001b[38;5;241m==\u001b[39m \u001b[38;5;124m\"\u001b[39m\u001b[38;5;124mpython\u001b[39m\u001b[38;5;124m\"\u001b[39m:\n\u001b[0;32m-> 1063\u001b[0m         results, res_index \u001b[38;5;241m=\u001b[39m \u001b[38;5;28;43mself\u001b[39;49m\u001b[38;5;241;43m.\u001b[39;49m\u001b[43mapply_series_generator\u001b[49m\u001b[43m(\u001b[49m\u001b[43m)\u001b[49m\n\u001b[1;32m   1064\u001b[0m     \u001b[38;5;28;01melse\u001b[39;00m:\n\u001b[1;32m   1065\u001b[0m         results, res_index \u001b[38;5;241m=\u001b[39m \u001b[38;5;28mself\u001b[39m\u001b[38;5;241m.\u001b[39mapply_series_numba()\n",
      "File \u001b[0;32m~/.virtualenvs/eambot/lib/python3.10/site-packages/pandas/core/apply.py:1081\u001b[0m, in \u001b[0;36mFrameApply.apply_series_generator\u001b[0;34m(self)\u001b[0m\n\u001b[1;32m   1078\u001b[0m \u001b[38;5;28;01mwith\u001b[39;00m option_context(\u001b[38;5;124m\"\u001b[39m\u001b[38;5;124mmode.chained_assignment\u001b[39m\u001b[38;5;124m\"\u001b[39m, \u001b[38;5;28;01mNone\u001b[39;00m):\n\u001b[1;32m   1079\u001b[0m     \u001b[38;5;28;01mfor\u001b[39;00m i, v \u001b[38;5;129;01min\u001b[39;00m \u001b[38;5;28menumerate\u001b[39m(series_gen):\n\u001b[1;32m   1080\u001b[0m         \u001b[38;5;66;03m# ignore SettingWithCopy here in case the user mutates\u001b[39;00m\n\u001b[0;32m-> 1081\u001b[0m         results[i] \u001b[38;5;241m=\u001b[39m \u001b[38;5;28;43mself\u001b[39;49m\u001b[38;5;241;43m.\u001b[39;49m\u001b[43mfunc\u001b[49m\u001b[43m(\u001b[49m\u001b[43mv\u001b[49m\u001b[43m,\u001b[49m\u001b[43m \u001b[49m\u001b[38;5;241;43m*\u001b[39;49m\u001b[38;5;28;43mself\u001b[39;49m\u001b[38;5;241;43m.\u001b[39;49m\u001b[43margs\u001b[49m\u001b[43m,\u001b[49m\u001b[43m \u001b[49m\u001b[38;5;241;43m*\u001b[39;49m\u001b[38;5;241;43m*\u001b[39;49m\u001b[38;5;28;43mself\u001b[39;49m\u001b[38;5;241;43m.\u001b[39;49m\u001b[43mkwargs\u001b[49m\u001b[43m)\u001b[49m\n\u001b[1;32m   1082\u001b[0m         \u001b[38;5;28;01mif\u001b[39;00m \u001b[38;5;28misinstance\u001b[39m(results[i], ABCSeries):\n\u001b[1;32m   1083\u001b[0m             \u001b[38;5;66;03m# If we have a view on v, we need to make a copy because\u001b[39;00m\n\u001b[1;32m   1084\u001b[0m             \u001b[38;5;66;03m#  series_generator will swap out the underlying data\u001b[39;00m\n\u001b[1;32m   1085\u001b[0m             results[i] \u001b[38;5;241m=\u001b[39m results[i]\u001b[38;5;241m.\u001b[39mcopy(deep\u001b[38;5;241m=\u001b[39m\u001b[38;5;28;01mFalse\u001b[39;00m)\n",
      "Cell \u001b[0;32mIn[18], line 1\u001b[0m, in \u001b[0;36m<lambda>\u001b[0;34m(x)\u001b[0m\n\u001b[0;32m----> 1\u001b[0m df\u001b[38;5;241m.\u001b[39mapply(\u001b[38;5;28;01mlambda\u001b[39;00m x: \u001b[43mx\u001b[49m\u001b[43m[\u001b[49m\u001b[38;5;241;43m1\u001b[39;49m\u001b[43m]\u001b[49m, axis\u001b[38;5;241m=\u001b[39m\u001b[38;5;241m1\u001b[39m)\n",
      "File \u001b[0;32m~/.virtualenvs/eambot/lib/python3.10/site-packages/pandas/core/series.py:1118\u001b[0m, in \u001b[0;36mSeries.__getitem__\u001b[0;34m(self, key)\u001b[0m\n\u001b[1;32m   1108\u001b[0m \u001b[38;5;28;01mif\u001b[39;00m is_integer(key) \u001b[38;5;129;01mand\u001b[39;00m \u001b[38;5;28mself\u001b[39m\u001b[38;5;241m.\u001b[39mindex\u001b[38;5;241m.\u001b[39m_should_fallback_to_positional:\n\u001b[1;32m   1109\u001b[0m     warnings\u001b[38;5;241m.\u001b[39mwarn(\n\u001b[1;32m   1110\u001b[0m         \u001b[38;5;66;03m# GH#50617\u001b[39;00m\n\u001b[1;32m   1111\u001b[0m         \u001b[38;5;124m\"\u001b[39m\u001b[38;5;124mSeries.__getitem__ treating keys as positions is deprecated. \u001b[39m\u001b[38;5;124m\"\u001b[39m\n\u001b[0;32m   (...)\u001b[0m\n\u001b[1;32m   1116\u001b[0m         stacklevel\u001b[38;5;241m=\u001b[39mfind_stack_level(),\n\u001b[1;32m   1117\u001b[0m     )\n\u001b[0;32m-> 1118\u001b[0m     \u001b[38;5;28;01mreturn\u001b[39;00m \u001b[38;5;28;43mself\u001b[39;49m\u001b[38;5;241;43m.\u001b[39;49m\u001b[43m_values\u001b[49m\u001b[43m[\u001b[49m\u001b[43mkey\u001b[49m\u001b[43m]\u001b[49m\n\u001b[1;32m   1120\u001b[0m \u001b[38;5;28;01melif\u001b[39;00m key_is_scalar:\n\u001b[1;32m   1121\u001b[0m     \u001b[38;5;28;01mreturn\u001b[39;00m \u001b[38;5;28mself\u001b[39m\u001b[38;5;241m.\u001b[39m_get_value(key)\n",
      "\u001b[0;31mIndexError\u001b[0m: index 1 is out of bounds for axis 0 with size 1"
     ]
    }
   ],
   "source": [
    "df.apply(lambda x: x[1], axis=1)"
   ]
  },
  {
   "cell_type": "code",
   "execution_count": 9,
   "id": "9869b080-3d0e-421e-be09-dca454b731c2",
   "metadata": {},
   "outputs": [
    {
     "data": {
      "text/html": [
       "<div>\n",
       "<style scoped>\n",
       "    .dataframe tbody tr th:only-of-type {\n",
       "        vertical-align: middle;\n",
       "    }\n",
       "\n",
       "    .dataframe tbody tr th {\n",
       "        vertical-align: top;\n",
       "    }\n",
       "\n",
       "    .dataframe thead th {\n",
       "        text-align: right;\n",
       "    }\n",
       "</style>\n",
       "<table border=\"1\" class=\"dataframe\">\n",
       "  <thead>\n",
       "    <tr style=\"text-align: right;\">\n",
       "      <th></th>\n",
       "      <th>0</th>\n",
       "      <th>1</th>\n",
       "      <th>2</th>\n",
       "    </tr>\n",
       "  </thead>\n",
       "  <tbody>\n",
       "    <tr>\n",
       "      <th>0</th>\n",
       "      <td>{'from': 'system', 'value': 'You are a helpful...</td>\n",
       "      <td>{'from': 'human', 'value': 'What did the Ameri...</td>\n",
       "      <td>{'from': 'gpt', 'value': 'This harangue did bu...</td>\n",
       "    </tr>\n",
       "    <tr>\n",
       "      <th>1</th>\n",
       "      <td>{'from': 'system', 'value': 'You are a helpful...</td>\n",
       "      <td>{'from': 'human', 'value': 'What critique did ...</td>\n",
       "      <td>{'from': 'gpt', 'value': 'I was greatly edifie...</td>\n",
       "    </tr>\n",
       "    <tr>\n",
       "      <th>2</th>\n",
       "      <td>{'from': 'system', 'value': 'You are a helpful...</td>\n",
       "      <td>{'from': 'human', 'value': 'What is the gravit...</td>\n",
       "      <td>{'from': 'gpt', 'value': '65. But in a Circle*...</td>\n",
       "    </tr>\n",
       "    <tr>\n",
       "      <th>3</th>\n",
       "      <td>{'from': 'system', 'value': 'You are a helpful...</td>\n",
       "      <td>{'from': 'human', 'value': 'What are the princ...</td>\n",
       "      <td>{'from': 'gpt', 'value': 'What you offer, repl...</td>\n",
       "    </tr>\n",
       "    <tr>\n",
       "      <th>4</th>\n",
       "      <td>{'from': 'system', 'value': 'You are a helpful...</td>\n",
       "      <td>{'from': 'human', 'value': 'What misconception...</td>\n",
       "      <td>{'from': 'gpt', 'value': 'Having thus, in as p...</td>\n",
       "    </tr>\n",
       "    <tr>\n",
       "      <th>...</th>\n",
       "      <td>...</td>\n",
       "      <td>...</td>\n",
       "      <td>...</td>\n",
       "    </tr>\n",
       "    <tr>\n",
       "      <th>8724</th>\n",
       "      <td>{'from': 'system', 'value': 'You are a helpful...</td>\n",
       "      <td>{'from': 'human', 'value': 'How does the speak...</td>\n",
       "      <td>{'from': 'gpt', 'value': 'THE text therefore, ...</td>\n",
       "    </tr>\n",
       "    <tr>\n",
       "      <th>8725</th>\n",
       "      <td>{'from': 'system', 'value': 'You are a helpful...</td>\n",
       "      <td>{'from': 'human', 'value': 'How did George Kei...</td>\n",
       "      <td>{'from': 'gpt', 'value': 'This Meeting (as bef...</td>\n",
       "    </tr>\n",
       "    <tr>\n",
       "      <th>8726</th>\n",
       "      <td>{'from': 'system', 'value': 'You are a helpful...</td>\n",
       "      <td>{'from': 'human', 'value': 'What had Mrs. Whit...</td>\n",
       "      <td>{'from': 'gpt', 'value': 'The WHITE LOAF.\n",
       "ONE ...</td>\n",
       "    </tr>\n",
       "    <tr>\n",
       "      <th>8727</th>\n",
       "      <td>{'from': 'system', 'value': 'You are a helpful...</td>\n",
       "      <td>{'from': 'human', 'value': 'How was the disput...</td>\n",
       "      <td>{'from': 'gpt', 'value': 'Being now about chur...</td>\n",
       "    </tr>\n",
       "    <tr>\n",
       "      <th>8728</th>\n",
       "      <td>{'from': 'system', 'value': 'You are a helpful...</td>\n",
       "      <td>{'from': 'human', 'value': 'What was the painf...</td>\n",
       "      <td>{'from': 'gpt', 'value': 'The subject was too ...</td>\n",
       "    </tr>\n",
       "  </tbody>\n",
       "</table>\n",
       "<p>8729 rows × 3 columns</p>\n",
       "</div>"
      ],
      "text/plain": [
       "                                                      0  \\\n",
       "0     {'from': 'system', 'value': 'You are a helpful...   \n",
       "1     {'from': 'system', 'value': 'You are a helpful...   \n",
       "2     {'from': 'system', 'value': 'You are a helpful...   \n",
       "3     {'from': 'system', 'value': 'You are a helpful...   \n",
       "4     {'from': 'system', 'value': 'You are a helpful...   \n",
       "...                                                 ...   \n",
       "8724  {'from': 'system', 'value': 'You are a helpful...   \n",
       "8725  {'from': 'system', 'value': 'You are a helpful...   \n",
       "8726  {'from': 'system', 'value': 'You are a helpful...   \n",
       "8727  {'from': 'system', 'value': 'You are a helpful...   \n",
       "8728  {'from': 'system', 'value': 'You are a helpful...   \n",
       "\n",
       "                                                      1  \\\n",
       "0     {'from': 'human', 'value': 'What did the Ameri...   \n",
       "1     {'from': 'human', 'value': 'What critique did ...   \n",
       "2     {'from': 'human', 'value': 'What is the gravit...   \n",
       "3     {'from': 'human', 'value': 'What are the princ...   \n",
       "4     {'from': 'human', 'value': 'What misconception...   \n",
       "...                                                 ...   \n",
       "8724  {'from': 'human', 'value': 'How does the speak...   \n",
       "8725  {'from': 'human', 'value': 'How did George Kei...   \n",
       "8726  {'from': 'human', 'value': 'What had Mrs. Whit...   \n",
       "8727  {'from': 'human', 'value': 'How was the disput...   \n",
       "8728  {'from': 'human', 'value': 'What was the painf...   \n",
       "\n",
       "                                                      2  \n",
       "0     {'from': 'gpt', 'value': 'This harangue did bu...  \n",
       "1     {'from': 'gpt', 'value': 'I was greatly edifie...  \n",
       "2     {'from': 'gpt', 'value': '65. But in a Circle*...  \n",
       "3     {'from': 'gpt', 'value': 'What you offer, repl...  \n",
       "4     {'from': 'gpt', 'value': 'Having thus, in as p...  \n",
       "...                                                 ...  \n",
       "8724  {'from': 'gpt', 'value': 'THE text therefore, ...  \n",
       "8725  {'from': 'gpt', 'value': 'This Meeting (as bef...  \n",
       "8726  {'from': 'gpt', 'value': 'The WHITE LOAF.\n",
       "ONE ...  \n",
       "8727  {'from': 'gpt', 'value': 'Being now about chur...  \n",
       "8728  {'from': 'gpt', 'value': 'The subject was too ...  \n",
       "\n",
       "[8729 rows x 3 columns]"
      ]
     },
     "execution_count": 9,
     "metadata": {},
     "output_type": "execute_result"
    }
   ],
   "source": [
    "import json\n",
    "\n",
    "df[\"conversations\"].apply(pd.Series)"
   ]
  },
  {
   "cell_type": "code",
   "execution_count": null,
   "id": "9b718374-9a75-4015-8f44-32c97a916fdf",
   "metadata": {},
   "outputs": [],
   "source": []
  }
 ],
 "metadata": {
  "kernelspec": {
   "display_name": "eam-bot",
   "language": "python",
   "name": "eam-bot"
  },
  "language_info": {
   "codemirror_mode": {
    "name": "ipython",
    "version": 3
   },
   "file_extension": ".py",
   "mimetype": "text/x-python",
   "name": "python",
   "nbconvert_exporter": "python",
   "pygments_lexer": "ipython3",
   "version": "3.10.12"
  }
 },
 "nbformat": 4,
 "nbformat_minor": 5
}
