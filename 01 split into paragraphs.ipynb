{
 "cells": [
  {
   "cell_type": "code",
   "execution_count": 1,
   "id": "c19e1ec7-66ff-48d3-a7c6-32c3ec8a1234",
   "metadata": {},
   "outputs": [],
   "source": [
    "from pathlib import Path\n",
    "\n",
    "import pandas as pd\n",
    "\n",
    "datadir = Path(\"data\")\n",
    "evans_dir = datadir.joinpath(\"raw\", \"evans_tcp\")\n",
    "df_metadata = pd.read_csv(evans_dir / \"EvansTCP.csv\")\n",
    "\n",
    "texts = [\n",
    "    (\n",
    "        fn_prefix,\n",
    "        evans_dir.joinpath(fn_prefix[:2], f\"{fn_prefix}.headed.txt\").read_text(),\n",
    "    )\n",
    "    for fn_prefix in df_metadata[\"TCP\"]\n",
    "]"
   ]
  },
  {
   "cell_type": "code",
   "execution_count": 2,
   "id": "df83b751-0746-4678-9210-671b2878f3b4",
   "metadata": {},
   "outputs": [
    {
     "data": {
      "application/vnd.jupyter.widget-view+json": {
       "model_id": "70cebe4fbeda4a6eb55c0b78aee5968a",
       "version_major": 2,
       "version_minor": 0
      },
      "text/plain": [
       "  0%|          | 0/5012 [00:00<?, ?it/s]"
      ]
     },
     "metadata": {},
     "output_type": "display_data"
    }
   ],
   "source": [
    "import json\n",
    "from tqdm.auto import tqdm\n",
    "import re\n",
    "\n",
    "split_pattern = re.compile(r\"\\n\\s*\\n\")\n",
    "split_pattern.split(texts[0][1])\n",
    "\n",
    "\n",
    "with datadir.joinpath(\"interim/paragraphs_simple_split.jsonl\").open(\"w\", encoding=\"utf-8\") as f:\n",
    "    for prefix, text in tqdm(texts):\n",
    "        for pidx, paragraph in enumerate(split_pattern.split(text)):\n",
    "            json_record = json.dumps(\n",
    "                {\"prefix\": prefix, \"paragraph_index\": pidx, \"paragraph\": paragraph},\n",
    "                ensure_ascii=False,\n",
    "            )\n",
    "            f.write(json_record + \"\\n\")\n"
   ]
  },
  {
   "cell_type": "code",
   "execution_count": null,
   "id": "38dbe7fd-bce5-49c3-b665-b2f1da3b6fda",
   "metadata": {},
   "outputs": [],
   "source": []
  }
 ],
 "metadata": {
  "kernelspec": {
   "display_name": "eam-bot",
   "language": "python",
   "name": "eam-bot"
  },
  "language_info": {
   "codemirror_mode": {
    "name": "ipython",
    "version": 3
   },
   "file_extension": ".py",
   "mimetype": "text/x-python",
   "name": "python",
   "nbconvert_exporter": "python",
   "pygments_lexer": "ipython3",
   "version": "3.10.12"
  }
 },
 "nbformat": 4,
 "nbformat_minor": 5
}
